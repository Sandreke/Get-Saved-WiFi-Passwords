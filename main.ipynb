{
 "cells": [
  {
   "cell_type": "code",
   "execution_count": null,
   "metadata": {},
   "outputs": [],
   "source": [
    "import subprocess\n",
    "\n",
    "data = subprocess.check_output(['netsh', 'wlan', 'show', 'profiles']).decode('utf-8').split('\\n')\n",
    "# profiles = [i.split(\":\")[1][1:-1] for i in data if \"All User Profile\" in i]              # If your device is setup in english\n",
    "profiles = [i.split(\":\")[1][1:-1] for i in data if \"Perfil de todos los usuarios\" in i]    # If your device is setup in spanish\n",
    "\n",
    "for i in profiles:\n",
    "    results = subprocess.check_output(['netsh', 'wlan', 'show', 'profile', i, 'key=clear']).decode('latin-1').split('\\n')\n",
    "#     results = [b.split(\":\")[1][1:-1] for b in results if \"Key Content\" in b]             # If your device is setup in english\n",
    "    results = [b.split(\":\")[1][1:-1] for b in results if \"Contenido de la clave\" in b]     # If your device is setup in spanish\n",
    "    try:\n",
    "        print (\"{:<30}|  {:<}\".format(i, results[0]))\n",
    "    except IndexError:\n",
    "        print (\"{:<30}|  {:<}\".format(i, \"\"))"
   ]
  }
 ],
 "metadata": {
  "kernelspec": {
   "display_name": "Python 3",
   "language": "python",
   "name": "python3"
  },
  "language_info": {
   "codemirror_mode": {
    "name": "ipython",
    "version": 3
   },
   "file_extension": ".py",
   "mimetype": "text/x-python",
   "name": "python",
   "nbconvert_exporter": "python",
   "pygments_lexer": "ipython3",
   "version": "3.7.4"
  }
 },
 "nbformat": 4,
 "nbformat_minor": 2
}
